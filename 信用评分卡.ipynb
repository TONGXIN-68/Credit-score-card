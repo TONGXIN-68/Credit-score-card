{
 "cells": [
  {
   "cell_type": "markdown",
   "id": "19f88c92",
   "metadata": {},
   "source": [
    "# 1、项目背景"
   ]
  },
  {
   "cell_type": "markdown",
   "id": "5adce114",
   "metadata": {},
   "source": [
    "建立信用评分卡\n",
    "\n",
    "RevolvingUtilizationOfUnsecuredLines（可用额度比值）及DebtRatio（负债率）\n",
    "NumberOfTime30-59DaysPastDueNotWorse（逾期30-59天笔数）、NumberOfTimes90DaysLate（逾期90天笔数）、NumberOfTime60-89DaysPastDueNotWorse（逾期60-89天笔数）"
   ]
  },
  {
   "cell_type": "markdown",
   "id": "4a08fc12",
   "metadata": {},
   "source": [
    "# 2、数据读取"
   ]
  },
  {
   "cell_type": "code",
   "execution_count": 2,
   "id": "ae6201d0",
   "metadata": {},
   "outputs": [],
   "source": [
    "%matplotlib inline\n",
    "import numpy as np \n",
    "import pandas as pd \n",
    "import calendar\n",
    "import matplotlib.pyplot as plt\n",
    "import seaborn as sns\n",
    "color = sns.color_palette()\n",
    "from subprocess import check_output\n",
    "plt.rcParams['font.sans-serif'] = ['SimHei']  # 用来正常显示中文标签\n",
    "plt.rcParams['axes.unicode_minus'] = False  # 用来正常显示"
   ]
  },
  {
   "cell_type": "code",
   "execution_count": 3,
   "id": "2e226a0a",
   "metadata": {},
   "outputs": [
    {
     "data": {
      "text/html": [
       "<div>\n",
       "<style scoped>\n",
       "    .dataframe tbody tr th:only-of-type {\n",
       "        vertical-align: middle;\n",
       "    }\n",
       "\n",
       "    .dataframe tbody tr th {\n",
       "        vertical-align: top;\n",
       "    }\n",
       "\n",
       "    .dataframe thead th {\n",
       "        text-align: right;\n",
       "    }\n",
       "</style>\n",
       "<table border=\"1\" class=\"dataframe\">\n",
       "  <thead>\n",
       "    <tr style=\"text-align: right;\">\n",
       "      <th></th>\n",
       "      <th>Unnamed: 0</th>\n",
       "      <th>SeriousDlqin2yrs</th>\n",
       "      <th>RevolvingUtilizationOfUnsecuredLines</th>\n",
       "      <th>age</th>\n",
       "      <th>NumberOfTime30-59DaysPastDueNotWorse</th>\n",
       "      <th>DebtRatio</th>\n",
       "      <th>MonthlyIncome</th>\n",
       "      <th>NumberOfOpenCreditLinesAndLoans</th>\n",
       "      <th>NumberOfTimes90DaysLate</th>\n",
       "      <th>NumberRealEstateLoansOrLines</th>\n",
       "      <th>NumberOfTime60-89DaysPastDueNotWorse</th>\n",
       "      <th>NumberOfDependents</th>\n",
       "    </tr>\n",
       "  </thead>\n",
       "  <tbody>\n",
       "    <tr>\n",
       "      <th>0</th>\n",
       "      <td>1</td>\n",
       "      <td>1</td>\n",
       "      <td>0.766127</td>\n",
       "      <td>45</td>\n",
       "      <td>2</td>\n",
       "      <td>0.802982</td>\n",
       "      <td>9120.0</td>\n",
       "      <td>13</td>\n",
       "      <td>0</td>\n",
       "      <td>6</td>\n",
       "      <td>0</td>\n",
       "      <td>2.0</td>\n",
       "    </tr>\n",
       "    <tr>\n",
       "      <th>1</th>\n",
       "      <td>2</td>\n",
       "      <td>0</td>\n",
       "      <td>0.957151</td>\n",
       "      <td>40</td>\n",
       "      <td>0</td>\n",
       "      <td>0.121876</td>\n",
       "      <td>2600.0</td>\n",
       "      <td>4</td>\n",
       "      <td>0</td>\n",
       "      <td>0</td>\n",
       "      <td>0</td>\n",
       "      <td>1.0</td>\n",
       "    </tr>\n",
       "    <tr>\n",
       "      <th>2</th>\n",
       "      <td>3</td>\n",
       "      <td>0</td>\n",
       "      <td>0.658180</td>\n",
       "      <td>38</td>\n",
       "      <td>1</td>\n",
       "      <td>0.085113</td>\n",
       "      <td>3042.0</td>\n",
       "      <td>2</td>\n",
       "      <td>1</td>\n",
       "      <td>0</td>\n",
       "      <td>0</td>\n",
       "      <td>0.0</td>\n",
       "    </tr>\n",
       "    <tr>\n",
       "      <th>3</th>\n",
       "      <td>4</td>\n",
       "      <td>0</td>\n",
       "      <td>0.233810</td>\n",
       "      <td>30</td>\n",
       "      <td>0</td>\n",
       "      <td>0.036050</td>\n",
       "      <td>3300.0</td>\n",
       "      <td>5</td>\n",
       "      <td>0</td>\n",
       "      <td>0</td>\n",
       "      <td>0</td>\n",
       "      <td>0.0</td>\n",
       "    </tr>\n",
       "    <tr>\n",
       "      <th>4</th>\n",
       "      <td>5</td>\n",
       "      <td>0</td>\n",
       "      <td>0.907239</td>\n",
       "      <td>49</td>\n",
       "      <td>1</td>\n",
       "      <td>0.024926</td>\n",
       "      <td>63588.0</td>\n",
       "      <td>7</td>\n",
       "      <td>0</td>\n",
       "      <td>1</td>\n",
       "      <td>0</td>\n",
       "      <td>0.0</td>\n",
       "    </tr>\n",
       "    <tr>\n",
       "      <th>...</th>\n",
       "      <td>...</td>\n",
       "      <td>...</td>\n",
       "      <td>...</td>\n",
       "      <td>...</td>\n",
       "      <td>...</td>\n",
       "      <td>...</td>\n",
       "      <td>...</td>\n",
       "      <td>...</td>\n",
       "      <td>...</td>\n",
       "      <td>...</td>\n",
       "      <td>...</td>\n",
       "      <td>...</td>\n",
       "    </tr>\n",
       "    <tr>\n",
       "      <th>149995</th>\n",
       "      <td>149996</td>\n",
       "      <td>0</td>\n",
       "      <td>0.040674</td>\n",
       "      <td>74</td>\n",
       "      <td>0</td>\n",
       "      <td>0.225131</td>\n",
       "      <td>2100.0</td>\n",
       "      <td>4</td>\n",
       "      <td>0</td>\n",
       "      <td>1</td>\n",
       "      <td>0</td>\n",
       "      <td>0.0</td>\n",
       "    </tr>\n",
       "    <tr>\n",
       "      <th>149996</th>\n",
       "      <td>149997</td>\n",
       "      <td>0</td>\n",
       "      <td>0.299745</td>\n",
       "      <td>44</td>\n",
       "      <td>0</td>\n",
       "      <td>0.716562</td>\n",
       "      <td>5584.0</td>\n",
       "      <td>4</td>\n",
       "      <td>0</td>\n",
       "      <td>1</td>\n",
       "      <td>0</td>\n",
       "      <td>2.0</td>\n",
       "    </tr>\n",
       "    <tr>\n",
       "      <th>149997</th>\n",
       "      <td>149998</td>\n",
       "      <td>0</td>\n",
       "      <td>0.246044</td>\n",
       "      <td>58</td>\n",
       "      <td>0</td>\n",
       "      <td>3870.000000</td>\n",
       "      <td>NaN</td>\n",
       "      <td>18</td>\n",
       "      <td>0</td>\n",
       "      <td>1</td>\n",
       "      <td>0</td>\n",
       "      <td>0.0</td>\n",
       "    </tr>\n",
       "    <tr>\n",
       "      <th>149998</th>\n",
       "      <td>149999</td>\n",
       "      <td>0</td>\n",
       "      <td>0.000000</td>\n",
       "      <td>30</td>\n",
       "      <td>0</td>\n",
       "      <td>0.000000</td>\n",
       "      <td>5716.0</td>\n",
       "      <td>4</td>\n",
       "      <td>0</td>\n",
       "      <td>0</td>\n",
       "      <td>0</td>\n",
       "      <td>0.0</td>\n",
       "    </tr>\n",
       "    <tr>\n",
       "      <th>149999</th>\n",
       "      <td>150000</td>\n",
       "      <td>0</td>\n",
       "      <td>0.850283</td>\n",
       "      <td>64</td>\n",
       "      <td>0</td>\n",
       "      <td>0.249908</td>\n",
       "      <td>8158.0</td>\n",
       "      <td>8</td>\n",
       "      <td>0</td>\n",
       "      <td>2</td>\n",
       "      <td>0</td>\n",
       "      <td>0.0</td>\n",
       "    </tr>\n",
       "  </tbody>\n",
       "</table>\n",
       "<p>150000 rows × 12 columns</p>\n",
       "</div>"
      ],
      "text/plain": [
       "        Unnamed: 0  SeriousDlqin2yrs  RevolvingUtilizationOfUnsecuredLines  \\\n",
       "0                1                 1                              0.766127   \n",
       "1                2                 0                              0.957151   \n",
       "2                3                 0                              0.658180   \n",
       "3                4                 0                              0.233810   \n",
       "4                5                 0                              0.907239   \n",
       "...            ...               ...                                   ...   \n",
       "149995      149996                 0                              0.040674   \n",
       "149996      149997                 0                              0.299745   \n",
       "149997      149998                 0                              0.246044   \n",
       "149998      149999                 0                              0.000000   \n",
       "149999      150000                 0                              0.850283   \n",
       "\n",
       "        age  NumberOfTime30-59DaysPastDueNotWorse    DebtRatio  MonthlyIncome  \\\n",
       "0        45                                     2     0.802982         9120.0   \n",
       "1        40                                     0     0.121876         2600.0   \n",
       "2        38                                     1     0.085113         3042.0   \n",
       "3        30                                     0     0.036050         3300.0   \n",
       "4        49                                     1     0.024926        63588.0   \n",
       "...     ...                                   ...          ...            ...   \n",
       "149995   74                                     0     0.225131         2100.0   \n",
       "149996   44                                     0     0.716562         5584.0   \n",
       "149997   58                                     0  3870.000000            NaN   \n",
       "149998   30                                     0     0.000000         5716.0   \n",
       "149999   64                                     0     0.249908         8158.0   \n",
       "\n",
       "        NumberOfOpenCreditLinesAndLoans  NumberOfTimes90DaysLate  \\\n",
       "0                                    13                        0   \n",
       "1                                     4                        0   \n",
       "2                                     2                        1   \n",
       "3                                     5                        0   \n",
       "4                                     7                        0   \n",
       "...                                 ...                      ...   \n",
       "149995                                4                        0   \n",
       "149996                                4                        0   \n",
       "149997                               18                        0   \n",
       "149998                                4                        0   \n",
       "149999                                8                        0   \n",
       "\n",
       "        NumberRealEstateLoansOrLines  NumberOfTime60-89DaysPastDueNotWorse  \\\n",
       "0                                  6                                     0   \n",
       "1                                  0                                     0   \n",
       "2                                  0                                     0   \n",
       "3                                  0                                     0   \n",
       "4                                  1                                     0   \n",
       "...                              ...                                   ...   \n",
       "149995                             1                                     0   \n",
       "149996                             1                                     0   \n",
       "149997                             1                                     0   \n",
       "149998                             0                                     0   \n",
       "149999                             2                                     0   \n",
       "\n",
       "        NumberOfDependents  \n",
       "0                      2.0  \n",
       "1                      1.0  \n",
       "2                      0.0  \n",
       "3                      0.0  \n",
       "4                      0.0  \n",
       "...                    ...  \n",
       "149995                 0.0  \n",
       "149996                 2.0  \n",
       "149997                 0.0  \n",
       "149998                 0.0  \n",
       "149999                 0.0  \n",
       "\n",
       "[150000 rows x 12 columns]"
      ]
     },
     "execution_count": 3,
     "metadata": {},
     "output_type": "execute_result"
    }
   ],
   "source": [
    "data = pd.read_csv(\"cs-training.csv\",engine = \"python\")\n",
    "data"
   ]
  },
  {
   "cell_type": "markdown",
   "id": "f61f9317",
   "metadata": {},
   "source": [
    "# 3、数据预处理"
   ]
  },
  {
   "cell_type": "code",
   "execution_count": 4,
   "id": "0d868b93",
   "metadata": {},
   "outputs": [
    {
     "data": {
      "text/plain": [
       "Unnamed: 0                                  0\n",
       "SeriousDlqin2yrs                            0\n",
       "RevolvingUtilizationOfUnsecuredLines        0\n",
       "age                                         0\n",
       "NumberOfTime30-59DaysPastDueNotWorse        0\n",
       "DebtRatio                                   0\n",
       "MonthlyIncome                           29731\n",
       "NumberOfOpenCreditLinesAndLoans             0\n",
       "NumberOfTimes90DaysLate                     0\n",
       "NumberRealEstateLoansOrLines                0\n",
       "NumberOfTime60-89DaysPastDueNotWorse        0\n",
       "NumberOfDependents                       3924\n",
       "dtype: int64"
      ]
     },
     "execution_count": 4,
     "metadata": {},
     "output_type": "execute_result"
    }
   ],
   "source": [
    "#缺失值处理\n",
    "data.isnull().sum()"
   ]
  },
  {
   "cell_type": "code",
   "execution_count": 5,
   "id": "332b30d3",
   "metadata": {},
   "outputs": [],
   "source": [
    "# 为缺失值MonthlyIncome记录填充值，设置为平均值\n",
    "MonthlyIncome_mean_value = data['MonthlyIncome'].mean()\n",
    "data['MonthlyIncome'] = data['MonthlyIncome'].fillna(MonthlyIncome_mean_value)\n",
    "# 为缺失值NumberOfDependents记录填充值，设置为平均值\n",
    "MonthlyIncome_mean_value = data['NumberOfDependents'].mean()\n",
    "data['NumberOfDependents'] = data['NumberOfDependents'].fillna(MonthlyIncome_mean_value)"
   ]
  },
  {
   "cell_type": "code",
   "execution_count": 6,
   "id": "534913e9",
   "metadata": {},
   "outputs": [
    {
     "data": {
      "text/plain": [
       "Text(0.5, 1.0, 'age')"
      ]
     },
     "execution_count": 6,
     "metadata": {},
     "output_type": "execute_result"
    },
    {
     "data": {
      "image/png": "[encoded data removed]",
      "text/plain": [
       "<Figure size 864x432 with 1 Axes>"
      ]
     },
     "metadata": {
      "needs_background": "light"
     },
     "output_type": "display_data"
    }
   ],
   "source": [
    "#异常值处理\n",
    "age = data['age'].value_counts()\n",
    "age.sort_index().plot.bar(figsize=(12,6), alpha=0.8, color=color[1])\n",
    "plt.ylabel('count', fontsize=12)\n",
    "plt.title('age', fontsize=18)"
   ]
  },
  {
   "cell_type": "code",
   "execution_count": 7,
   "id": "765674e6",
   "metadata": {},
   "outputs": [],
   "source": [
    "data = data[data['age']>18]\n",
    "data = data[data['age']<65]"
   ]
  },
  {
   "cell_type": "code",
   "execution_count": 8,
   "id": "6443ad74",
   "metadata": {},
   "outputs": [],
   "source": [
    "data = data[data['RevolvingUtilizationOfUnsecuredLines']>=0]\n",
    "data = data[data['RevolvingUtilizationOfUnsecuredLines']<=1]\n",
    "data = data[data['DebtRatio']>=0]\n",
    "data = data[data['DebtRatio']<=1]"
   ]
  },
  {
   "cell_type": "code",
   "execution_count": 9,
   "id": "dc6ce9f1",
   "metadata": {},
   "outputs": [
    {
     "data": {
      "text/plain": [
       "[Text(1, 0, 'NumberOfTime30-59DaysPastDueNotWorse')]"
      ]
     },
     "execution_count": 9,
     "metadata": {},
     "output_type": "execute_result"
    },
    {
     "data": {
      "image/png": "[encoded data removed]",
      "text/plain": [
       "<Figure size 432x288 with 1 Axes>"
      ]
     },
     "metadata": {
      "needs_background": "light"
     },
     "output_type": "display_data"
    }
   ],
   "source": [
    "fig = plt.figure()\n",
    "x1 = data['NumberOfTime30-59DaysPastDueNotWorse']\n",
    "# 绘制箱线图\n",
    "ax = fig.add_subplot(111)   #1*1网格，第一子图\n",
    "ax.boxplot([x1])\n",
    "ax.set_xticklabels(['NumberOfTime30-59DaysPastDueNotWorse'])"
   ]
  },
  {
   "cell_type": "code",
   "execution_count": 10,
   "id": "459492c2",
   "metadata": {},
   "outputs": [
    {
     "data": {
      "text/plain": [
       "[Text(1, 0, 'NumberOfTimes90DaysLate')]"
      ]
     },
     "execution_count": 10,
     "metadata": {},
     "output_type": "execute_result"
    },
    {
     "data": {
      "image/png": "[encoded data removed]",
      "text/plain": [
       "<Figure size 432x288 with 1 Axes>"
      ]
     },
     "metadata": {
      "needs_background": "light"
     },
     "output_type": "display_data"
    }
   ],
   "source": [
    "fig = plt.figure()\n",
    "x2 = data['NumberOfTimes90DaysLate']\n",
    "ax = fig.add_subplot(111)\n",
    "ax.boxplot([x2])\n",
    "ax.set_xticklabels(['NumberOfTimes90DaysLate'])"
   ]
  },
  {
   "cell_type": "code",
   "execution_count": 11,
   "id": "4260ca58",
   "metadata": {},
   "outputs": [
    {
     "data": {
      "text/plain": [
       "[Text(1, 0, 'NumberOfTime60-89DaysPastDueNotWorse')]"
      ]
     },
     "execution_count": 11,
     "metadata": {},
     "output_type": "execute_result"
    },
    {
     "data": {
      "image/png": "[encoded data removed]",
      "text/plain": [
       "<Figure size 432x288 with 1 Axes>"
      ]
     },
     "metadata": {
      "needs_background": "light"
     },
     "output_type": "display_data"
    }
   ],
   "source": [
    "fig = plt.figure()\n",
    "x3 = data['NumberOfTime60-89DaysPastDueNotWorse']\n",
    "ax = fig.add_subplot(111)\n",
    "ax.boxplot([x3])\n",
    "ax.set_xticklabels(['NumberOfTime60-89DaysPastDueNotWorse'])"
   ]
  },
  {
   "cell_type": "code",
   "execution_count": 12,
   "id": "73d42150",
   "metadata": {},
   "outputs": [],
   "source": [
    "#剔除三个变量大于20的值\n",
    "data = data[data['NumberOfTime30-59DaysPastDueNotWorse'] <= 20]\n",
    "data = data[data['NumberOfTimes90DaysLate'] <= 20]\n",
    "data = data[data['NumberOfTime60-89DaysPastDueNotWorse'] <= 20]"
   ]
  },
  {
   "cell_type": "markdown",
   "id": "1f720a3c",
   "metadata": {},
   "source": [
    "月收入"
   ]
  },
  {
   "cell_type": "code",
   "execution_count": 13,
   "id": "c0be3496",
   "metadata": {},
   "outputs": [
    {
     "data": {
      "text/plain": [
       "[Text(1, 0, 'MonthlyIncome')]"
      ]
     },
     "execution_count": 13,
     "metadata": {},
     "output_type": "execute_result"
    },
    {
     "data": {
      "image/png": "[encoded data removed]",
      "text/plain": [
       "<Figure size 432x288 with 1 Axes>"
      ]
     },
     "metadata": {
      "needs_background": "light"
     },
     "output_type": "display_data"
    }
   ],
   "source": [
    "fig = plt.figure()\n",
    "x = data['MonthlyIncome']\n",
    "ax = fig.add_subplot(111)\n",
    "ax.boxplot([x])\n",
    "ax.set_xticklabels(['MonthlyIncome'])"
   ]
  },
  {
   "cell_type": "code",
   "execution_count": 14,
   "id": "1af667cc",
   "metadata": {},
   "outputs": [],
   "source": [
    "data = data[data['MonthlyIncome'] <= 1000000]"
   ]
  },
  {
   "cell_type": "markdown",
   "id": "06875e6a",
   "metadata": {},
   "source": [
    "# 4、探索性分析"
   ]
  },
  {
   "cell_type": "markdown",
   "id": "b366ca8d",
   "metadata": {},
   "source": [
    "好坏客户整体情况"
   ]
  },
  {
   "cell_type": "code",
   "execution_count": 15,
   "id": "fe13c9f1",
   "metadata": {},
   "outputs": [],
   "source": [
    "# 考虑到实际分类中，一般正常客户为1，违约客户为0，所以我们需要先转换客户分类列数据。\n",
    "import matplotlib.pyplot as plt\n",
    "data['SeriousDlqin2yrs'] = 1-data['SeriousDlqin2yrs']  #转换0、1\n",
    "grouped = data['SeriousDlqin2yrs'].groupby(data['SeriousDlqin2yrs']).count()\n",
    "#print(\"不良客户占比:\",(grouped[0]/grouped[1])*100,\"%\")\n",
    "#grouped.plot(kind = 'pie')"
   ]
  },
  {
   "cell_type": "code",
   "execution_count": 16,
   "id": "abf84f2b",
   "metadata": {},
   "outputs": [
    {
     "data": {
      "image/png": "[encoded data removed]",
      "text/plain": [
       "<Figure size 432x432 with 1 Axes>"
      ]
     },
     "metadata": {},
     "output_type": "display_data"
    }
   ],
   "source": [
    "import matplotlib.pyplot as plt\n",
    "#plt.rcParams['font.sans-serif']='SimHei'#设置中文显示\n",
    "plt.figure(figsize=(6,6))#将画布设定为正方形，则绘制的饼图是正圆\n",
    "label=['违约客户','正常客户']#定义饼图的标签，标签是列表\n",
    "explode=[0.01,0.01]#设定各项距离圆心n个半径\n",
    "#plt.pie(values[-1,3:6],explode=explode,labels=label,autopct='%1.1f%%')#绘制饼图\n",
    "values=[grouped[0], grouped[1]]\n",
    "plt.pie(values,explode=explode,labels=label,autopct='%1.1f%%')#绘制饼图\n",
    "plt.title('违约客户占比')\n",
    "plt.savefig('./违约客户占比')\n",
    "plt.show()"
   ]
  },
  {
   "cell_type": "markdown",
   "id": "5b7c1cb0",
   "metadata": {},
   "source": [
    "相关性分析"
   ]
  },
  {
   "cell_type": "code",
   "execution_count": 17,
   "id": "779a11bc",
   "metadata": {},
   "outputs": [
    {
     "data": {
      "text/plain": [
       "<AxesSubplot:>"
      ]
     },
     "execution_count": 17,
     "metadata": {},
     "output_type": "execute_result"
    },
    {
     "data": {
      "image/png": "[encoded data removed]",
      "text/plain": [
       "<Figure size 864x576 with 2 Axes>"
      ]
     },
     "metadata": {
      "needs_background": "light"
     },
     "output_type": "display_data"
    }
   ],
   "source": [
    "corr = data.corr()\n",
    "corr\n",
    "fig = plt.figure(figsize=(12,8))\n",
    "ax1 = fig.add_subplot(1,1,1)\n",
    "sns.heatmap(corr,annot = True,ax = ax1) #annot:annotate的缩写，annot默认为False，当annot为True时，在heatmap中每个方格写入数据"
   ]
  },
  {
   "cell_type": "markdown",
   "id": "df0d7d2f",
   "metadata": {},
   "source": [
    "数据集划分"
   ]
  },
  {
   "cell_type": "code",
   "execution_count": 18,
   "id": "e673d40f",
   "metadata": {},
   "outputs": [],
   "source": [
    "from sklearn.model_selection import train_test_split\n",
    "Y = data['SeriousDlqin2yrs']\n",
    "X=data.iloc[:,1:]\n",
    "X_train, X_test, Y_train, Y_test = train_test_split(X,Y,train_size = 0.8,random_state=100)\n",
    "train = pd.concat([Y_train,X_train], axis =1)  #concat函数是在pandas底下的方法，可以将数据根据不同的轴作简单的融合\n",
    "test = pd.concat([Y_test,X_test], axis =1)\n",
    "train = train.reset_index(drop=True)   #经过reset_index(drop=True)，可使index连续，如果不进行reset_index(drop=True)，index会变得不连续\n",
    "test = test.reset_index(drop=True)\n",
    "#保留一份测试数据集，后面生成评分卡\n",
    "#test.to_csv('origin_test.csv', index=False)"
   ]
  },
  {
   "cell_type": "markdown",
   "id": "3a424f61",
   "metadata": {},
   "source": [
    "数据分箱"
   ]
  },
  {
   "cell_type": "code",
   "execution_count": 19,
   "id": "26fd24ab",
   "metadata": {},
   "outputs": [],
   "source": [
    "import scipy.stats as stats\n",
    "\n",
    "def monoto_bin(Y, X, n):\n",
    "    #相关系数初始化\n",
    "    r = 0\n",
    "    total_good = Y.sum()\n",
    "    total_bad =Y.count()-total_good\n",
    "    #选择最佳分箱数量：从n自减，寻找到最大绝对值相关系数。这是一种经验做法。也可以使用其他分箱方法\n",
    "    while np.abs(r) < 1:\n",
    "        d1 = pd.DataFrame({\"X\": X, \"Y\": Y, \"Bucket\": pd.qcut(X, n)})\n",
    "        #次数n代表分箱的个数，每个分箱内数据个数相等\n",
    "        d2 = d1.groupby('Bucket', as_index = True)\n",
    "        r, p = stats.spearmanr(d2.mean().X, d2.mean().Y)\n",
    "        n = n - 1\n",
    "    #循环完成后，此时同时得到了某个d2和n，d2就是最佳分箱下的参数\n",
    "    \n",
    "    d3 = pd.DataFrame(d2.min().X, columns = ['min_' + X.name])\n",
    "    d3['min_' + X.name] = d2.min().X\n",
    "    d3['max_' + X.name] = d2.max().X\n",
    "    d3[Y.name] = d2.sum().Y\n",
    "    d3['total'] = d2.count().Y\n",
    "    #d3[Y.name + '_rate'] = d2.mean().Y\n",
    "    #好坏比，求woe,证据权重，自变量对目标变量有没有影响，什么影响\n",
    "    d3['goodattr']=d3[Y.name]/total_good\n",
    "    #goodattr计算方式是每个箱子里的好客户数量/数据集里总的好客户数量\n",
    "    d3['badattr']=(d3['total']-d3[Y.name])/total_bad\n",
    "    #badattr计算方式是每个箱子里的坏客户数量/数据集里总的坏客户数量\n",
    "    d3['woe'] = np.log(d3['goodattr']/d3['badattr'])\n",
    "    #之所以这样设置公式，是根据逻辑回归来定义的\n",
    "    #iv，信息值，自变量对于目标变量的影响程度\n",
    "    #IV为information value表示特征的预测能力，如果分箱后，好坏样本所占的比例相差不大的话，就失去了预测能力\n",
    "    #该公式相当于求內积之和\n",
    "    iv = ((d3['goodattr']-d3['badattr'])*d3['woe']).sum()\n",
    "    d4 = (d3.sort_values(by = 'min_' + X.name)).reset_index(drop = True)\n",
    "    print (\"=\" * 80)\n",
    "    print (d4)\n",
    "    cut = []    #存放箱段节点\n",
    "    cut.append(float('-inf'))   #在列表前加-inf\n",
    "    for i in range(1,n+1):      # n 是前面分箱的分割数  ，所以分成n+1份\n",
    "        qua =X.quantile(i/(n+1))  # quantile 分为数 得到分箱的节点\n",
    "        cut.append(round(qua,4))   # quantile 分为数 得到分箱的节点\n",
    "    cut.append(float('inf'))    # 在列表后加inf\n",
    "    woe = list(d4['woe'].round(3))\n",
    "    return d4,iv,cut,woe\n",
    "    #cut是对X取他的四分位，因为Y只有0/1也不能取四分位。n=3因为最后有n-1，所以实际上是分成了四个桶，woe是四个值。goodattribute是好的属性的"
   ]
  },
  {
   "cell_type": "markdown",
   "id": "84462b0f",
   "metadata": {},
   "source": [
    "自动分箱"
   ]
  },
  {
   "cell_type": "code",
   "execution_count": 20,
   "id": "0783c9c6",
   "metadata": {},
   "outputs": [
    {
     "name": "stdout",
     "output_type": "stream",
     "text": [
      "================================================================================\n",
      "   min_RevolvingUtilizationOfUnsecuredLines  \\\n",
      "0                                  0.000000   \n",
      "1                                  0.043661   \n",
      "2                                  0.207988   \n",
      "3                                  0.602190   \n",
      "\n",
      "   max_RevolvingUtilizationOfUnsecuredLines  SeriousDlqin2yrs  total  \\\n",
      "0                                  0.043660             22078  22576   \n",
      "1                                  0.207983             21973  22576   \n",
      "2                                  0.602073             21250  22575   \n",
      "3                                  1.000000             18869  22576   \n",
      "\n",
      "   goodattr   badattr       woe  \n",
      "0  0.262302  0.081200  1.172582  \n",
      "1  0.261055  0.098321  0.976498  \n",
      "2  0.252465  0.216044  0.155790  \n",
      "3  0.224177  0.604435 -0.991857  \n",
      "================================================================================\n",
      "   min_age  max_age  SeriousDlqin2yrs  total  goodattr   badattr       woe\n",
      "0       21       32             10444  11539  0.124082  0.178542 -0.363881\n",
      "1       33       38             10174  11078  0.120874  0.147399 -0.198393\n",
      "2       39       43             11115  12066  0.132054  0.155063 -0.160618\n",
      "3       44       47             10220  10988  0.121421  0.125224 -0.030842\n",
      "4       48       51             10732  11524  0.127504  0.129137 -0.012731\n",
      "5       52       55             10086  10756  0.119829  0.109245  0.092471\n",
      "6       56       60             11870  12461  0.141024  0.096364  0.380799\n",
      "7       61       64              9529   9891  0.113211  0.059025  0.651296\n",
      "================================================================================\n",
      "   min_DebtRatio  max_DebtRatio  SeriousDlqin2yrs  total  goodattr  badattr  \\\n",
      "0            0.0            1.0             84170  90303       1.0      1.0   \n",
      "\n",
      "   woe  \n",
      "0  0.0  \n",
      "================================================================================\n",
      "   min_MonthlyIncome  max_MonthlyIncome  SeriousDlqin2yrs  total  goodattr  \\\n",
      "0                0.0             2706.0             10209  11288  0.121290   \n",
      "1             2707.0             3800.0             10518  11574  0.124961   \n",
      "2             3801.0             4800.0             10288  11211  0.122229   \n",
      "3             4801.0             5833.0             10398  11160  0.123536   \n",
      "4             5834.0             7000.0             11172  11912  0.132731   \n",
      "5             7001.0             8583.0             10100  10653  0.119995   \n",
      "6             8584.0            11100.0             10704  11247  0.127171   \n",
      "7            11101.0           835040.0             10781  11258  0.128086   \n",
      "\n",
      "    badattr       woe  \n",
      "0  0.175933 -0.371920  \n",
      "1  0.172183 -0.320555  \n",
      "2  0.150497 -0.208050  \n",
      "3  0.124246 -0.005732  \n",
      "4  0.120659  0.095361  \n",
      "5  0.090168  0.285778  \n",
      "6  0.088537  0.362109  \n",
      "7  0.077776  0.498870  \n",
      "================================================================================\n",
      "   min_NumberOfOpenCreditLinesAndLoans  max_NumberOfOpenCreditLinesAndLoans  \\\n",
      "0                                    0                                   57   \n",
      "\n",
      "   SeriousDlqin2yrs  total  goodattr  badattr  woe  \n",
      "0             84170  90303       1.0      1.0  0.0  \n"
     ]
    }
   ],
   "source": [
    "dfx1,ivx1,cutx1,woex1 = monoto_bin(data['SeriousDlqin2yrs'],data['RevolvingUtilizationOfUnsecuredLines'],n = 10)\n",
    "dfx2,ivx2,cutx2,woex2 = monoto_bin(data['SeriousDlqin2yrs'],data['age'],n = 10)\n",
    "dfx4,ivx4,cutx4,woex4 = monoto_bin(data['SeriousDlqin2yrs'],data['DebtRatio'],n = 10)\n",
    "dfx5,ivx5,cutx5,woex5 = monoto_bin(data['SeriousDlqin2yrs'],data['MonthlyIncome'],n = 10)\n",
    "dfx6,ivx6,cutx6,woex6 = monoto_bin(data['SeriousDlqin2yrs'],data['NumberOfOpenCreditLinesAndLoans'],n = 10)"
   ]
  },
  {
   "cell_type": "markdown",
   "id": "50bfdd43",
   "metadata": {},
   "source": [
    "不能用最优分段的变量，采用自定义分箱"
   ]
  },
  {
   "cell_type": "code",
   "execution_count": 21,
   "id": "f08397ba",
   "metadata": {},
   "outputs": [],
   "source": [
    "import scipy.stats as stats\n",
    "def self_bin(x,y,cut): # x为待分箱的变量，y为target变量,cut为自定义的分箱(list)\n",
    "    total = y.count()  # 计算总样本数\n",
    "    bad = y.sum()      # 计算坏样本数\n",
    "    good = y.count()-y.sum()  # 计算好样本数\n",
    "    d1 = pd.DataFrame({'x':x,'y':y,'bucket':pd.cut(x,cut)}) \n",
    "    d2 = d1.groupby('bucket',as_index=True)  # 按照分箱结果进行分组聚合\n",
    "    d3 = pd.DataFrame(d2.x.min(),columns=['min_bin']) \n",
    "    d3['min_bin'] = d2.x.min()  # 箱体的左边界\n",
    "    d3['max_bin'] = d2.x.max()  # 箱体的右边界\n",
    "    d3['bad'] = d2.y.sum()  # 每个箱体中坏样本的数量\n",
    "    d3['total'] = d2.y.count() # 每个箱体的总样本数\n",
    "    d3['bad_rate'] = d3['bad']/d3['total']  # 每个箱体中坏样本所占总样本数的比例\n",
    "    d3['badattr'] = d3['bad']/bad   # 每个箱体中坏样本所占坏样本总数的比例\n",
    "    d3['goodattr'] = (d3['total'] - d3['bad'])/good  # 每个箱体中好样本所占好样本总数的比例\n",
    "    d3['woe'] = np.log(d3['goodattr']/d3['badattr'])  # 计算每个箱体的woe值\n",
    "    iv = ((d3['goodattr']-d3['badattr'])*d3['woe']).sum()  # 计算变量的iv值\n",
    "    d4 = (d3.sort_values(by = 'min_bin')).reset_index(drop=True) # 对箱体从大到小进行排序\n",
    "    print('分箱结果：')\n",
    "    print(d4)\n",
    "    print('IV值为：')\n",
    "    print(iv)\n",
    "    woe = list(d4['woe'].round(3))\n",
    "    return d4,iv,woe"
   ]
  },
  {
   "cell_type": "code",
   "execution_count": 22,
   "id": "b07e7f1a",
   "metadata": {},
   "outputs": [
    {
     "name": "stdout",
     "output_type": "stream",
     "text": [
      "分箱结果：\n",
      "   min_bin  max_bin    bad  total  bad_rate  badattr  goodattr  woe\n",
      "0        0        1  23442  90303  0.259593      1.0       1.0  0.0\n",
      "IV值为：\n",
      "0.0\n",
      "分箱结果：\n",
      "   min_bin  max_bin   bad  total  bad_rate   badattr  goodattr       woe\n",
      "0        0        0  3713   6133  0.605413  0.456928  0.029449 -2.741879\n",
      "1        1        1  4413  84170  0.052430  0.543072  0.970551  0.580623\n",
      "IV值为：\n",
      "1.420302498764587\n",
      "分箱结果：\n",
      "   min_bin  max_bin    bad  total  bad_rate   badattr  goodattr       woe\n",
      "0        1        1  89600  84170  1.064512  0.939302  1.067427  0.127869\n",
      "IV值为：\n",
      "0.016383248922518613\n",
      "分箱结果：\n",
      "   min_bin  max_bin   bad  total  bad_rate  badattr  goodattr       woe\n",
      "0        0        0  2133   6133  0.347791  0.36257  0.047382 -2.034973\n",
      "1        1        1  3750  84170  0.044553  0.63743  0.952618  0.401770\n",
      "IV值为：\n",
      "0.7680318337016258\n",
      "分箱结果：\n",
      "   min_bin  max_bin           bad  total  bad_rate   badattr  goodattr  \\\n",
      "0        1        1  82026.513897  84170  0.974534  0.924026  1.398973   \n",
      "\n",
      "        woe  \n",
      "0  0.414754  \n",
      "IV值为：\n",
      "0.19698613997403627\n"
     ]
    }
   ],
   "source": [
    "pinf = float('inf')#正无穷大\n",
    "ninf = float('-inf')#负无穷大\n",
    "cutx3 = [ninf, pinf]\n",
    "cutx7 = [ninf, 0, pinf]\n",
    "cutx8 = [ 0, pinf]\n",
    "cutx9 = [ninf, 0, pinf]\n",
    "cutx10 = [0,pinf]\n",
    "dfx3, ivx3,woex3 = self_bin(data['SeriousDlqin2yrs'],data['NumberOfTime30-59DaysPastDueNotWorse'],cutx3)\n",
    "dfx7, ivx7,woex7 = self_bin(data['SeriousDlqin2yrs'],data['NumberOfTimes90DaysLate'],cutx7)\n",
    "dfx8, ivx8,woex8 = self_bin(data['SeriousDlqin2yrs'],data['NumberRealEstateLoansOrLines'],cutx8) \n",
    "dfx9, ivx9,woex9 = self_bin(data['SeriousDlqin2yrs'],data['NumberOfTime60-89DaysPastDueNotWorse'],cutx9)\n",
    "dfx10, ivx10,woex10 = self_bin(data['SeriousDlqin2yrs'],data['NumberOfDependents'],cutx10)"
   ]
  },
  {
   "cell_type": "markdown",
   "id": "82501f7b",
   "metadata": {},
   "source": [
    "计算IV值"
   ]
  },
  {
   "cell_type": "code",
   "execution_count": 23,
   "id": "45a1a54f",
   "metadata": {},
   "outputs": [
    {
     "data": {
      "image/png": "[encoded data removed]",
      "text/plain": [
       "<Figure size 432x288 with 1 Axes>"
      ]
     },
     "metadata": {
      "needs_background": "light"
     },
     "output_type": "display_data"
    }
   ],
   "source": [
    "ivlist=[ivx1,ivx2,ivx3,ivx4,ivx5,ivx6,ivx7,ivx8,ivx9,ivx10]#各变量IV\n",
    "index=['x1','x2','x3','x4','x5','x6','x7','x8','x9','x10']#x轴的标签\n",
    "fig1 = plt.figure(1)\n",
    "ax1 = fig1.add_subplot(1, 1, 1)  \n",
    "#在一个大的画图空间fig中，前两个参数1和1分别代表子图的行数和列数，也就是我们现在生成了1x1图像，最后一个参数1代表第1个子图\n",
    "x = np.arange(len(index))+1 #设置x轴柱子的个数\n",
    "ax1.bar(x, ivlist, width=0.4)#生成柱状图\n",
    "ax1.set_xticks(x)  #设置x轴的刻度\n",
    "ax1.set_xticklabels(index, rotation=0, fontsize=12)\n",
    "ax1.set_ylabel('IV(Information Value)', fontsize=14)\n",
    "\n",
    "#在柱状图上添加数字标签\n",
    "for a, b in zip(x, ivlist):\n",
    "    plt.text(a, b + 0.01, '%.4f' % b, ha = 'center', va = 'bottom', fontsize = 10)\n",
    "    # ha='center'点在注释右边（right,center,left）,va='bottom'点在注释底部('top', 'bottom', 'center', 'baseline')\n",
    "plt.show()"
   ]
  },
  {
   "cell_type": "markdown",
   "id": "21a374b0",
   "metadata": {},
   "source": [
    "# 5、模型分析"
   ]
  },
  {
   "cell_type": "markdown",
   "id": "97500d8b",
   "metadata": {},
   "source": [
    "WOE转换"
   ]
  },
  {
   "cell_type": "code",
   "execution_count": 24,
   "id": "efb46f20",
   "metadata": {},
   "outputs": [
    {
     "data": {
      "text/html": [
       "<div>\n",
       "<style scoped>\n",
       "    .dataframe tbody tr th:only-of-type {\n",
       "        vertical-align: middle;\n",
       "    }\n",
       "\n",
       "    .dataframe tbody tr th {\n",
       "        vertical-align: top;\n",
       "    }\n",
       "\n",
       "    .dataframe thead th {\n",
       "        text-align: right;\n",
       "    }\n",
       "</style>\n",
       "<table border=\"1\" class=\"dataframe\">\n",
       "  <thead>\n",
       "    <tr style=\"text-align: right;\">\n",
       "      <th></th>\n",
       "      <th>SeriousDlqin2yrs</th>\n",
       "      <th>SeriousDlqin2yrs</th>\n",
       "      <th>RevolvingUtilizationOfUnsecuredLines</th>\n",
       "      <th>age</th>\n",
       "      <th>NumberOfTime30-59DaysPastDueNotWorse</th>\n",
       "      <th>DebtRatio</th>\n",
       "      <th>MonthlyIncome</th>\n",
       "      <th>NumberOfOpenCreditLinesAndLoans</th>\n",
       "      <th>NumberOfTimes90DaysLate</th>\n",
       "      <th>NumberRealEstateLoansOrLines</th>\n",
       "      <th>NumberOfTime60-89DaysPastDueNotWorse</th>\n",
       "      <th>NumberOfDependents</th>\n",
       "    </tr>\n",
       "  </thead>\n",
       "  <tbody>\n",
       "    <tr>\n",
       "      <th>0</th>\n",
       "      <td>1</td>\n",
       "      <td>1</td>\n",
       "      <td>-0.992</td>\n",
       "      <td>-0.364</td>\n",
       "      <td>0.0</td>\n",
       "      <td>0.0</td>\n",
       "      <td>-0.208</td>\n",
       "      <td>0.0</td>\n",
       "      <td>0.581</td>\n",
       "      <td>0.128</td>\n",
       "      <td>0.402</td>\n",
       "      <td>0.415</td>\n",
       "    </tr>\n",
       "    <tr>\n",
       "      <th>1</th>\n",
       "      <td>1</td>\n",
       "      <td>1</td>\n",
       "      <td>1.173</td>\n",
       "      <td>0.092</td>\n",
       "      <td>0.0</td>\n",
       "      <td>0.0</td>\n",
       "      <td>0.286</td>\n",
       "      <td>0.0</td>\n",
       "      <td>0.581</td>\n",
       "      <td>0.128</td>\n",
       "      <td>0.402</td>\n",
       "      <td>0.415</td>\n",
       "    </tr>\n",
       "    <tr>\n",
       "      <th>2</th>\n",
       "      <td>1</td>\n",
       "      <td>1</td>\n",
       "      <td>-0.992</td>\n",
       "      <td>0.381</td>\n",
       "      <td>0.0</td>\n",
       "      <td>0.0</td>\n",
       "      <td>0.499</td>\n",
       "      <td>0.0</td>\n",
       "      <td>0.581</td>\n",
       "      <td>0.128</td>\n",
       "      <td>0.402</td>\n",
       "      <td>0.415</td>\n",
       "    </tr>\n",
       "    <tr>\n",
       "      <th>3</th>\n",
       "      <td>1</td>\n",
       "      <td>1</td>\n",
       "      <td>0.976</td>\n",
       "      <td>-0.198</td>\n",
       "      <td>0.0</td>\n",
       "      <td>0.0</td>\n",
       "      <td>0.095</td>\n",
       "      <td>0.0</td>\n",
       "      <td>0.581</td>\n",
       "      <td>0.128</td>\n",
       "      <td>0.402</td>\n",
       "      <td>0.415</td>\n",
       "    </tr>\n",
       "    <tr>\n",
       "      <th>4</th>\n",
       "      <td>1</td>\n",
       "      <td>1</td>\n",
       "      <td>1.173</td>\n",
       "      <td>-0.364</td>\n",
       "      <td>0.0</td>\n",
       "      <td>0.0</td>\n",
       "      <td>-0.372</td>\n",
       "      <td>0.0</td>\n",
       "      <td>0.581</td>\n",
       "      <td>0.128</td>\n",
       "      <td>0.402</td>\n",
       "      <td>0.415</td>\n",
       "    </tr>\n",
       "    <tr>\n",
       "      <th>...</th>\n",
       "      <td>...</td>\n",
       "      <td>...</td>\n",
       "      <td>...</td>\n",
       "      <td>...</td>\n",
       "      <td>...</td>\n",
       "      <td>...</td>\n",
       "      <td>...</td>\n",
       "      <td>...</td>\n",
       "      <td>...</td>\n",
       "      <td>...</td>\n",
       "      <td>...</td>\n",
       "      <td>...</td>\n",
       "    </tr>\n",
       "    <tr>\n",
       "      <th>18056</th>\n",
       "      <td>1</td>\n",
       "      <td>1</td>\n",
       "      <td>0.156</td>\n",
       "      <td>-0.161</td>\n",
       "      <td>0.0</td>\n",
       "      <td>0.0</td>\n",
       "      <td>0.095</td>\n",
       "      <td>0.0</td>\n",
       "      <td>0.581</td>\n",
       "      <td>0.128</td>\n",
       "      <td>0.402</td>\n",
       "      <td>0.415</td>\n",
       "    </tr>\n",
       "    <tr>\n",
       "      <th>18057</th>\n",
       "      <td>1</td>\n",
       "      <td>1</td>\n",
       "      <td>1.173</td>\n",
       "      <td>-0.031</td>\n",
       "      <td>0.0</td>\n",
       "      <td>0.0</td>\n",
       "      <td>0.499</td>\n",
       "      <td>0.0</td>\n",
       "      <td>0.581</td>\n",
       "      <td>0.128</td>\n",
       "      <td>0.402</td>\n",
       "      <td>0.415</td>\n",
       "    </tr>\n",
       "    <tr>\n",
       "      <th>18058</th>\n",
       "      <td>1</td>\n",
       "      <td>1</td>\n",
       "      <td>0.156</td>\n",
       "      <td>-0.013</td>\n",
       "      <td>0.0</td>\n",
       "      <td>0.0</td>\n",
       "      <td>-0.372</td>\n",
       "      <td>0.0</td>\n",
       "      <td>0.581</td>\n",
       "      <td>0.128</td>\n",
       "      <td>0.402</td>\n",
       "      <td>0.415</td>\n",
       "    </tr>\n",
       "    <tr>\n",
       "      <th>18059</th>\n",
       "      <td>1</td>\n",
       "      <td>1</td>\n",
       "      <td>-0.992</td>\n",
       "      <td>0.651</td>\n",
       "      <td>0.0</td>\n",
       "      <td>0.0</td>\n",
       "      <td>0.286</td>\n",
       "      <td>0.0</td>\n",
       "      <td>0.581</td>\n",
       "      <td>0.128</td>\n",
       "      <td>0.402</td>\n",
       "      <td>0.415</td>\n",
       "    </tr>\n",
       "    <tr>\n",
       "      <th>18060</th>\n",
       "      <td>1</td>\n",
       "      <td>1</td>\n",
       "      <td>0.976</td>\n",
       "      <td>-0.031</td>\n",
       "      <td>0.0</td>\n",
       "      <td>0.0</td>\n",
       "      <td>0.286</td>\n",
       "      <td>0.0</td>\n",
       "      <td>0.581</td>\n",
       "      <td>0.128</td>\n",
       "      <td>0.402</td>\n",
       "      <td>0.415</td>\n",
       "    </tr>\n",
       "  </tbody>\n",
       "</table>\n",
       "<p>18061 rows × 12 columns</p>\n",
       "</div>"
      ],
      "text/plain": [
       "       SeriousDlqin2yrs  SeriousDlqin2yrs  \\\n",
       "0                     1                 1   \n",
       "1                     1                 1   \n",
       "2                     1                 1   \n",
       "3                     1                 1   \n",
       "4                     1                 1   \n",
       "...                 ...               ...   \n",
       "18056                 1                 1   \n",
       "18057                 1                 1   \n",
       "18058                 1                 1   \n",
       "18059                 1                 1   \n",
       "18060                 1                 1   \n",
       "\n",
       "       RevolvingUtilizationOfUnsecuredLines    age  \\\n",
       "0                                    -0.992 -0.364   \n",
       "1                                     1.173  0.092   \n",
       "2                                    -0.992  0.381   \n",
       "3                                     0.976 -0.198   \n",
       "4                                     1.173 -0.364   \n",
       "...                                     ...    ...   \n",
       "18056                                 0.156 -0.161   \n",
       "18057                                 1.173 -0.031   \n",
       "18058                                 0.156 -0.013   \n",
       "18059                                -0.992  0.651   \n",
       "18060                                 0.976 -0.031   \n",
       "\n",
       "       NumberOfTime30-59DaysPastDueNotWorse  DebtRatio  MonthlyIncome  \\\n",
       "0                                       0.0        0.0         -0.208   \n",
       "1                                       0.0        0.0          0.286   \n",
       "2                                       0.0        0.0          0.499   \n",
       "3                                       0.0        0.0          0.095   \n",
       "4                                       0.0        0.0         -0.372   \n",
       "...                                     ...        ...            ...   \n",
       "18056                                   0.0        0.0          0.095   \n",
       "18057                                   0.0        0.0          0.499   \n",
       "18058                                   0.0        0.0         -0.372   \n",
       "18059                                   0.0        0.0          0.286   \n",
       "18060                                   0.0        0.0          0.286   \n",
       "\n",
       "       NumberOfOpenCreditLinesAndLoans  NumberOfTimes90DaysLate  \\\n",
       "0                                  0.0                    0.581   \n",
       "1                                  0.0                    0.581   \n",
       "2                                  0.0                    0.581   \n",
       "3                                  0.0                    0.581   \n",
       "4                                  0.0                    0.581   \n",
       "...                                ...                      ...   \n",
       "18056                              0.0                    0.581   \n",
       "18057                              0.0                    0.581   \n",
       "18058                              0.0                    0.581   \n",
       "18059                              0.0                    0.581   \n",
       "18060                              0.0                    0.581   \n",
       "\n",
       "       NumberRealEstateLoansOrLines  NumberOfTime60-89DaysPastDueNotWorse  \\\n",
       "0                             0.128                                 0.402   \n",
       "1                             0.128                                 0.402   \n",
       "2                             0.128                                 0.402   \n",
       "3                             0.128                                 0.402   \n",
       "4                             0.128                                 0.402   \n",
       "...                             ...                                   ...   \n",
       "18056                         0.128                                 0.402   \n",
       "18057                         0.128                                 0.402   \n",
       "18058                         0.128                                 0.402   \n",
       "18059                         0.128                                 0.402   \n",
       "18060                         0.128                                 0.402   \n",
       "\n",
       "       NumberOfDependents  \n",
       "0                   0.415  \n",
       "1                   0.415  \n",
       "2                   0.415  \n",
       "3                   0.415  \n",
       "4                   0.415  \n",
       "...                   ...  \n",
       "18056               0.415  \n",
       "18057               0.415  \n",
       "18058               0.415  \n",
       "18059               0.415  \n",
       "18060               0.415  \n",
       "\n",
       "[18061 rows x 12 columns]"
      ]
     },
     "execution_count": 24,
     "metadata": {},
     "output_type": "execute_result"
    }
   ],
   "source": [
    "#建立模型之前，我们需要将筛选后的变量转换为WOE值，便于信用评分\n",
    "#替换成WOE函数\n",
    "def replace_woe(series,cut,woe):\n",
    "    list=[]\n",
    "    i=0\n",
    "    while i<len(series):\n",
    "        try:\n",
    "            value=series[i]\n",
    "        except:\n",
    "            i += 1\n",
    "            continue\n",
    "        j=len(cut)-2\n",
    "        m=len(cut)-2\n",
    "        while j>=0:\n",
    "            if value>=cut[j]:\n",
    "                j=-1\n",
    "            else:\n",
    "                j -=1\n",
    "                m -= 1\n",
    "        list.append(woe[m])\n",
    "        i += 1\n",
    "    return list\n",
    "\n",
    "# 替换成WOE\n",
    "train['RevolvingUtilizationOfUnsecuredLines'] = pd.Series(replace_woe(train['RevolvingUtilizationOfUnsecuredLines'], cutx1, woex1))\n",
    "train['age'] = pd.Series(replace_woe(train['age'], cutx2, woex2))\n",
    "train['NumberOfTime30-59DaysPastDueNotWorse'] = pd.Series(replace_woe(train['NumberOfTime30-59DaysPastDueNotWorse'], cutx3, woex3))\n",
    "train['DebtRatio'] = pd.Series(replace_woe(train['DebtRatio'], cutx4, woex4))\n",
    "train['MonthlyIncome'] = pd.Series(replace_woe(train['MonthlyIncome'], cutx5, woex5))\n",
    "train['NumberOfOpenCreditLinesAndLoans'] = pd.Series(replace_woe(train['NumberOfOpenCreditLinesAndLoans'], cutx6, woex6))\n",
    "train['NumberOfTimes90DaysLate'] = pd.Series(replace_woe(train['NumberOfTimes90DaysLate'], cutx7, woex7))\n",
    "train['NumberRealEstateLoansOrLines'] = pd.Series(replace_woe(train['NumberRealEstateLoansOrLines'], cutx8, woex8))\n",
    "train['NumberOfTime60-89DaysPastDueNotWorse'] = pd.Series(replace_woe(train['NumberOfTime60-89DaysPastDueNotWorse'], cutx9, woex9))\n",
    "train['NumberOfDependents'] = pd.Series(replace_woe(train['NumberOfDependents'], cutx10, woex10))\n",
    "train.dropna(how = 'any')\n",
    "train.to_csv('WoeData.csv', index=False)\n",
    "\n",
    "# 替换成WOE\n",
    "test['RevolvingUtilizationOfUnsecuredLines'] = pd.Series(replace_woe(test['RevolvingUtilizationOfUnsecuredLines'], cutx1, woex1))\n",
    "test['age'] = pd.Series(replace_woe(test['age'], cutx2, woex2))\n",
    "test['NumberOfTime30-59DaysPastDueNotWorse'] = pd.Series(replace_woe(test['NumberOfTime30-59DaysPastDueNotWorse'], cutx3, woex3))\n",
    "test['DebtRatio'] = pd.Series(replace_woe(test['DebtRatio'], cutx4, woex4))\n",
    "test['MonthlyIncome'] = pd.Series(replace_woe(test['MonthlyIncome'], cutx5, woex5))\n",
    "test['NumberOfOpenCreditLinesAndLoans'] = pd.Series(replace_woe(test['NumberOfOpenCreditLinesAndLoans'], cutx6, woex6))\n",
    "test['NumberOfTimes90DaysLate'] = pd.Series(replace_woe(test['NumberOfTimes90DaysLate'], cutx7, woex7))\n",
    "test['NumberRealEstateLoansOrLines'] = pd.Series(replace_woe(test['NumberRealEstateLoansOrLines'], cutx8, woex8))\n",
    "test['NumberOfTime60-89DaysPastDueNotWorse'] = pd.Series(replace_woe(test['NumberOfTime60-89DaysPastDueNotWorse'], cutx9, woex9))\n",
    "test['NumberOfDependents'] = pd.Series(replace_woe(test['NumberOfDependents'], cutx10, woex10))\n",
    "test.dropna(how = 'any')"
   ]
  },
  {
   "cell_type": "markdown",
   "id": "5ed59bda",
   "metadata": {},
   "source": [
    "根据IV值筛选变量"
   ]
  },
  {
   "cell_type": "code",
   "execution_count": 25,
   "id": "489e8e9b",
   "metadata": {},
   "outputs": [],
   "source": [
    "train_X =X_train.drop(['NumberOfTime30-59DaysPastDueNotWorse','DebtRatio','MonthlyIncome','NumberOfOpenCreditLinesAndLoans','NumberRealEstateLoansOrLines'],axis=1)\n",
    "test_X =X_test.drop(['NumberOfTime30-59DaysPastDueNotWorse','DebtRatio','MonthlyIncome','NumberOfOpenCreditLinesAndLoans','NumberRealEstateLoansOrLines'],axis=1)"
   ]
  },
  {
   "cell_type": "markdown",
   "id": "8f22d634",
   "metadata": {},
   "source": [
    "建立逻辑回归模型"
   ]
  },
  {
   "cell_type": "code",
   "execution_count": 29,
   "id": "2460cc0a",
   "metadata": {},
   "outputs": [
    {
     "name": "stdout",
     "output_type": "stream",
     "text": [
      "Optimization terminated successfully.\n",
      "         Current function value: 0.205080\n",
      "         Iterations 7\n",
      "                                   Results: Logit\n",
      "=====================================================================================\n",
      "Model:                      Logit                  Pseudo R-squared:       0.174     \n",
      "Dependent Variable:         SeriousDlqin2yrs       AIC:                    29642.7278\n",
      "Date:                       2022-06-09 19:11       BIC:                    29697.8545\n",
      "No. Observations:           72242                  Log-Likelihood:         -14815.   \n",
      "Df Model:                   5                      LL-Null:                -17931.   \n",
      "Df Residuals:               72236                  LLR p-value:            0.0000    \n",
      "Converged:                  1.0000                 Scale:                  1.0000    \n",
      "No. Iterations:             7.0000                                                   \n",
      "-------------------------------------------------------------------------------------\n",
      "                                      Coef.  Std.Err.    z     P>|z|   [0.025  0.975]\n",
      "-------------------------------------------------------------------------------------\n",
      "const                                 3.3727   0.0787  42.8799 0.0000  3.2185  3.5268\n",
      "RevolvingUtilizationOfUnsecuredLines -1.9394   0.0459 -42.2459 0.0000 -2.0294 -1.8494\n",
      "age                                   0.0109   0.0015   7.2063 0.0000  0.0079  0.0138\n",
      "NumberOfTimes90DaysLate              -0.7302   0.0238 -30.6687 0.0000 -0.7769 -0.6835\n",
      "NumberOfTime60-89DaysPastDueNotWorse -0.8708   0.0322 -27.0687 0.0000 -0.9338 -0.8077\n",
      "NumberOfDependents                   -0.0576   0.0128  -4.5160 0.0000 -0.0826 -0.0326\n",
      "=====================================================================================\n",
      "\n"
     ]
    }
   ],
   "source": [
    "from sklearn.metrics import roc_curve, auc\n",
    "import statsmodels.api as sm  # 最小二乘\n",
    "X_train = train_X.drop(['SeriousDlqin2yrs'],axis=1)\n",
    "y_train = Y_train\n",
    "X_test= test_X.drop(['SeriousDlqin2yrs'],axis=1)\n",
    "y_test= Y_test\n",
    "X_train = sm.add_constant(X_train)   # sm.add_constant 函数可以添加一个截距的列到现存的矩阵\n",
    "logit = sm.Logit(y_train,X_train)\n",
    "result = logit.fit()\n",
    "print(result.summary2())"
   ]
  },
  {
   "cell_type": "markdown",
   "id": "3a42a236",
   "metadata": {},
   "source": [
    "模型检验"
   ]
  },
  {
   "cell_type": "code",
   "execution_count": 30,
   "id": "dfc0fdf1",
   "metadata": {},
   "outputs": [
    {
     "name": "stderr",
     "output_type": "stream",
     "text": [
      "E:\\Anaconda3\\lib\\site-packages\\statsmodels\\tsa\\tsatools.py:142: FutureWarning: In a future version of pandas all arguments of concat except for the argument 'objs' will be keyword-only\n",
      "  x = pd.concat(x[::order], 1)\n"
     ]
    },
    {
     "data": {
      "image/png": "[encoded data removed]",
      "text/plain": [
       "<Figure size 432x288 with 1 Axes>"
      ]
     },
     "metadata": {
      "needs_background": "light"
     },
     "output_type": "display_data"
    }
   ],
   "source": [
    "from sklearn.metrics import roc_curve, auc\n",
    "X2 = sm.add_constant(X_test)\n",
    "resu = result.predict(X2)\n",
    "FPR,TPR,threshold = roc_curve(y_test,resu)\n",
    "ROC_AUC = auc(FPR,TPR)\n",
    "plt.plot(FPR, TPR, 'b', label='AUC = %0.2f' % ROC_AUC)\n",
    "plt.legend(loc='lower right')\n",
    "plt.plot([0, 1], [0, 1], 'r--')\n",
    "plt.xlim([0, 1])   #限制x轴的取值范围\n",
    "plt.ylim([0, 1])   #限制y轴的取值范围\n",
    "plt.ylabel('TPR')\n",
    "plt.xlabel('FPR')\n",
    "plt.show()"
   ]
  },
  {
   "cell_type": "markdown",
   "id": "9a10dd49",
   "metadata": {},
   "source": [
    "# 6、建立信用评分卡"
   ]
  },
  {
   "cell_type": "code",
   "execution_count": 31,
   "id": "9c0f72d0",
   "metadata": {},
   "outputs": [],
   "source": [
    "# 取600分为基础分值，PDO为20（每高20分好坏比翻一倍），好坏比取20。\n",
    "import math\n",
    "p = 20 / math.log(2)  # 比例因子\n",
    "q = 600 - 20 * math.log(20) / math.log(2)  #等于offset,偏移量\n",
    "coe=[3.3727, -1.9394,  0.0109, -0.7302, -0.8708, -0.0576]  # 回归系数\n",
    "baseScore = round(q + p * coe[0], 0)\n",
    "#个人总评分=基础分+各部分得分\n",
    "# 因为第一个是常数项\n",
    "#构建评分卡时候只需要选出那些，IV值高的特征就行，最后相加得到总分\n",
    "\n",
    "#计算分数函数\n",
    "def get_score(coe,woe,factor):\n",
    "    scores=[]\n",
    "    for w in woe:\n",
    "        score=round(coe*w*factor,0)\n",
    "        scores.append(score)\n",
    "    return scores\n",
    "\n",
    "# 各项部分分数\n",
    "x1 = get_score(coe[1], woex1, p)\n",
    "x2 = get_score(coe[2], woex2, p)\n",
    "x7 = get_score(coe[3], woex7, p)\n",
    "x9 = get_score(coe[4], woex9, p)\n",
    "x10 = get_score(coe[5], woex10, p)"
   ]
  },
  {
   "cell_type": "code",
   "execution_count": 32,
   "id": "79f2bf7c",
   "metadata": {},
   "outputs": [
    {
     "data": {
      "text/plain": [
       "[-66.0, -55.0, -9.0, 56.0]"
      ]
     },
     "execution_count": 32,
     "metadata": {},
     "output_type": "execute_result"
    }
   ],
   "source": [
    "x1"
   ]
  },
  {
   "cell_type": "code",
   "execution_count": 33,
   "id": "2a72ed66",
   "metadata": {},
   "outputs": [
    {
     "data": {
      "text/plain": [
       "[-0.0, -0.0, -0.0, -0.0, -0.0, 0.0, 0.0, 0.0]"
      ]
     },
     "execution_count": 33,
     "metadata": {},
     "output_type": "execute_result"
    }
   ],
   "source": [
    "x2"
   ]
  },
  {
   "cell_type": "code",
   "execution_count": 34,
   "id": "dbd56668",
   "metadata": {},
   "outputs": [
    {
     "data": {
      "text/plain": [
       "[58.0, -12.0]"
      ]
     },
     "execution_count": 34,
     "metadata": {},
     "output_type": "execute_result"
    }
   ],
   "source": [
    "x7"
   ]
  },
  {
   "cell_type": "code",
   "execution_count": 35,
   "id": "1e956dc3",
   "metadata": {},
   "outputs": [
    {
     "data": {
      "text/plain": [
       "[51.0, -10.0]"
      ]
     },
     "execution_count": 35,
     "metadata": {},
     "output_type": "execute_result"
    }
   ],
   "source": [
    "x9"
   ]
  },
  {
   "cell_type": "code",
   "execution_count": 36,
   "id": "4abad445",
   "metadata": {},
   "outputs": [
    {
     "data": {
      "text/plain": [
       "[-1.0]"
      ]
     },
     "execution_count": 36,
     "metadata": {},
     "output_type": "execute_result"
    }
   ],
   "source": [
    "x10"
   ]
  },
  {
   "cell_type": "markdown",
   "id": "a1bcbb0f",
   "metadata": {},
   "source": [
    "根据变量计算分数"
   ]
  },
  {
   "cell_type": "code",
   "execution_count": 37,
   "id": "8d0c2853",
   "metadata": {},
   "outputs": [],
   "source": [
    "def compute_score(series,cut,score):\n",
    "    list = []\n",
    "    i = 0\n",
    "    while i < len(series):\n",
    "        value = series[i]\n",
    "        j = len(cut) - 2\n",
    "        m = len(cut) - 2\n",
    "        while j >= 0:\n",
    "            if value >= cut[j]:\n",
    "                j = -1\n",
    "            else:\n",
    "                j -= 1\n",
    "                m -= 1\n",
    "        list.append(score[m])\n",
    "        i += 1\n",
    "    return list\n",
    "# j和m相当于j是移动光标，m是跟着j，确定数的\n",
    "# list就是在x1里面挑一个值，这个值和series[i]是对应的\n",
    "\n",
    "from pandas import Series\n",
    "test['BaseScore']=Series(np.zeros(len(test))) + baseScore\n",
    "test['x1'] = Series(compute_score(test['RevolvingUtilizationOfUnsecuredLines'], cutx1, x1))\n",
    "test['x2'] = Series(compute_score(test['age'], cutx2, x2))\n",
    "test['x7'] = Series(compute_score(test['NumberOfTimes90DaysLate'], cutx7, x7))\n",
    "test['x9'] = Series(compute_score(test['NumberOfTime60-89DaysPastDueNotWorse'], cutx9, x9))\n",
    "test['x10'] = Series(compute_score(test['NumberOfDependents'], cutx10, x10))\n",
    "test['Score'] = test['x1'] + test['x2'] + test['x7'] + test['x9'] +test['x10']  + baseScore\n",
    "test.to_csv('ScoreData.csv', index=False)"
   ]
  },
  {
   "cell_type": "code",
   "execution_count": 38,
   "id": "cb98c1d8",
   "metadata": {},
   "outputs": [
    {
     "data": {
      "text/html": [
       "<div>\n",
       "<style scoped>\n",
       "    .dataframe tbody tr th:only-of-type {\n",
       "        vertical-align: middle;\n",
       "    }\n",
       "\n",
       "    .dataframe tbody tr th {\n",
       "        vertical-align: top;\n",
       "    }\n",
       "\n",
       "    .dataframe thead th {\n",
       "        text-align: right;\n",
       "    }\n",
       "</style>\n",
       "<table border=\"1\" class=\"dataframe\">\n",
       "  <thead>\n",
       "    <tr style=\"text-align: right;\">\n",
       "      <th></th>\n",
       "      <th>SeriousDlqin2yrs</th>\n",
       "      <th>SeriousDlqin2yrs</th>\n",
       "      <th>BaseScore</th>\n",
       "      <th>x1</th>\n",
       "      <th>x2</th>\n",
       "      <th>x7</th>\n",
       "      <th>x9</th>\n",
       "      <th>x10</th>\n",
       "      <th>Score</th>\n",
       "    </tr>\n",
       "  </thead>\n",
       "  <tbody>\n",
       "    <tr>\n",
       "      <th>0</th>\n",
       "      <td>1</td>\n",
       "      <td>1</td>\n",
       "      <td>611.0</td>\n",
       "      <td>-66.0</td>\n",
       "      <td>-0.0</td>\n",
       "      <td>-12.0</td>\n",
       "      <td>-10.0</td>\n",
       "      <td>-1.0</td>\n",
       "      <td>522.0</td>\n",
       "    </tr>\n",
       "    <tr>\n",
       "      <th>1</th>\n",
       "      <td>1</td>\n",
       "      <td>1</td>\n",
       "      <td>611.0</td>\n",
       "      <td>56.0</td>\n",
       "      <td>-0.0</td>\n",
       "      <td>-12.0</td>\n",
       "      <td>-10.0</td>\n",
       "      <td>-1.0</td>\n",
       "      <td>644.0</td>\n",
       "    </tr>\n",
       "    <tr>\n",
       "      <th>2</th>\n",
       "      <td>1</td>\n",
       "      <td>1</td>\n",
       "      <td>611.0</td>\n",
       "      <td>-66.0</td>\n",
       "      <td>-0.0</td>\n",
       "      <td>-12.0</td>\n",
       "      <td>-10.0</td>\n",
       "      <td>-1.0</td>\n",
       "      <td>522.0</td>\n",
       "    </tr>\n",
       "    <tr>\n",
       "      <th>3</th>\n",
       "      <td>1</td>\n",
       "      <td>1</td>\n",
       "      <td>611.0</td>\n",
       "      <td>56.0</td>\n",
       "      <td>-0.0</td>\n",
       "      <td>-12.0</td>\n",
       "      <td>-10.0</td>\n",
       "      <td>-1.0</td>\n",
       "      <td>644.0</td>\n",
       "    </tr>\n",
       "    <tr>\n",
       "      <th>4</th>\n",
       "      <td>1</td>\n",
       "      <td>1</td>\n",
       "      <td>611.0</td>\n",
       "      <td>56.0</td>\n",
       "      <td>-0.0</td>\n",
       "      <td>-12.0</td>\n",
       "      <td>-10.0</td>\n",
       "      <td>-1.0</td>\n",
       "      <td>644.0</td>\n",
       "    </tr>\n",
       "    <tr>\n",
       "      <th>...</th>\n",
       "      <td>...</td>\n",
       "      <td>...</td>\n",
       "      <td>...</td>\n",
       "      <td>...</td>\n",
       "      <td>...</td>\n",
       "      <td>...</td>\n",
       "      <td>...</td>\n",
       "      <td>...</td>\n",
       "      <td>...</td>\n",
       "    </tr>\n",
       "    <tr>\n",
       "      <th>18056</th>\n",
       "      <td>1</td>\n",
       "      <td>1</td>\n",
       "      <td>611.0</td>\n",
       "      <td>-55.0</td>\n",
       "      <td>-0.0</td>\n",
       "      <td>-12.0</td>\n",
       "      <td>-10.0</td>\n",
       "      <td>-1.0</td>\n",
       "      <td>533.0</td>\n",
       "    </tr>\n",
       "    <tr>\n",
       "      <th>18057</th>\n",
       "      <td>1</td>\n",
       "      <td>1</td>\n",
       "      <td>611.0</td>\n",
       "      <td>56.0</td>\n",
       "      <td>-0.0</td>\n",
       "      <td>-12.0</td>\n",
       "      <td>-10.0</td>\n",
       "      <td>-1.0</td>\n",
       "      <td>644.0</td>\n",
       "    </tr>\n",
       "    <tr>\n",
       "      <th>18058</th>\n",
       "      <td>1</td>\n",
       "      <td>1</td>\n",
       "      <td>611.0</td>\n",
       "      <td>-55.0</td>\n",
       "      <td>-0.0</td>\n",
       "      <td>-12.0</td>\n",
       "      <td>-10.0</td>\n",
       "      <td>-1.0</td>\n",
       "      <td>533.0</td>\n",
       "    </tr>\n",
       "    <tr>\n",
       "      <th>18059</th>\n",
       "      <td>1</td>\n",
       "      <td>1</td>\n",
       "      <td>611.0</td>\n",
       "      <td>-66.0</td>\n",
       "      <td>-0.0</td>\n",
       "      <td>-12.0</td>\n",
       "      <td>-10.0</td>\n",
       "      <td>-1.0</td>\n",
       "      <td>522.0</td>\n",
       "    </tr>\n",
       "    <tr>\n",
       "      <th>18060</th>\n",
       "      <td>1</td>\n",
       "      <td>1</td>\n",
       "      <td>611.0</td>\n",
       "      <td>56.0</td>\n",
       "      <td>-0.0</td>\n",
       "      <td>-12.0</td>\n",
       "      <td>-10.0</td>\n",
       "      <td>-1.0</td>\n",
       "      <td>644.0</td>\n",
       "    </tr>\n",
       "  </tbody>\n",
       "</table>\n",
       "<p>18061 rows × 9 columns</p>\n",
       "</div>"
      ],
      "text/plain": [
       "       SeriousDlqin2yrs  SeriousDlqin2yrs  BaseScore    x1   x2    x7    x9  \\\n",
       "0                     1                 1      611.0 -66.0 -0.0 -12.0 -10.0   \n",
       "1                     1                 1      611.0  56.0 -0.0 -12.0 -10.0   \n",
       "2                     1                 1      611.0 -66.0 -0.0 -12.0 -10.0   \n",
       "3                     1                 1      611.0  56.0 -0.0 -12.0 -10.0   \n",
       "4                     1                 1      611.0  56.0 -0.0 -12.0 -10.0   \n",
       "...                 ...               ...        ...   ...  ...   ...   ...   \n",
       "18056                 1                 1      611.0 -55.0 -0.0 -12.0 -10.0   \n",
       "18057                 1                 1      611.0  56.0 -0.0 -12.0 -10.0   \n",
       "18058                 1                 1      611.0 -55.0 -0.0 -12.0 -10.0   \n",
       "18059                 1                 1      611.0 -66.0 -0.0 -12.0 -10.0   \n",
       "18060                 1                 1      611.0  56.0 -0.0 -12.0 -10.0   \n",
       "\n",
       "       x10  Score  \n",
       "0     -1.0  522.0  \n",
       "1     -1.0  644.0  \n",
       "2     -1.0  522.0  \n",
       "3     -1.0  644.0  \n",
       "4     -1.0  644.0  \n",
       "...    ...    ...  \n",
       "18056 -1.0  533.0  \n",
       "18057 -1.0  644.0  \n",
       "18058 -1.0  533.0  \n",
       "18059 -1.0  522.0  \n",
       "18060 -1.0  644.0  \n",
       "\n",
       "[18061 rows x 9 columns]"
      ]
     },
     "execution_count": 38,
     "metadata": {},
     "output_type": "execute_result"
    }
   ],
   "source": [
    "test.loc[:,['SeriousDlqin2yrs','BaseScore', 'x1', 'x2', 'x7', 'x9', 'x10', 'Score']]"
   ]
  },
  {
   "cell_type": "code",
   "execution_count": 39,
   "id": "d4c8f7b8",
   "metadata": {},
   "outputs": [
    {
     "data": {
      "text/html": [
       "<div>\n",
       "<style scoped>\n",
       "    .dataframe tbody tr th:only-of-type {\n",
       "        vertical-align: middle;\n",
       "    }\n",
       "\n",
       "    .dataframe tbody tr th {\n",
       "        vertical-align: top;\n",
       "    }\n",
       "\n",
       "    .dataframe thead th {\n",
       "        text-align: right;\n",
       "    }\n",
       "</style>\n",
       "<table border=\"1\" class=\"dataframe\">\n",
       "  <thead>\n",
       "    <tr style=\"text-align: right;\">\n",
       "      <th></th>\n",
       "      <th>SeriousDlqin2yrs</th>\n",
       "      <th>SeriousDlqin2yrs</th>\n",
       "      <th>BaseScore</th>\n",
       "      <th>x1</th>\n",
       "      <th>x2</th>\n",
       "      <th>x7</th>\n",
       "      <th>x9</th>\n",
       "      <th>x10</th>\n",
       "      <th>Score</th>\n",
       "    </tr>\n",
       "  </thead>\n",
       "  <tbody>\n",
       "    <tr>\n",
       "      <th>18056</th>\n",
       "      <td>1</td>\n",
       "      <td>1</td>\n",
       "      <td>611.0</td>\n",
       "      <td>-55.0</td>\n",
       "      <td>-0.0</td>\n",
       "      <td>-12.0</td>\n",
       "      <td>-10.0</td>\n",
       "      <td>-1.0</td>\n",
       "      <td>533.0</td>\n",
       "    </tr>\n",
       "    <tr>\n",
       "      <th>18057</th>\n",
       "      <td>1</td>\n",
       "      <td>1</td>\n",
       "      <td>611.0</td>\n",
       "      <td>56.0</td>\n",
       "      <td>-0.0</td>\n",
       "      <td>-12.0</td>\n",
       "      <td>-10.0</td>\n",
       "      <td>-1.0</td>\n",
       "      <td>644.0</td>\n",
       "    </tr>\n",
       "    <tr>\n",
       "      <th>18058</th>\n",
       "      <td>1</td>\n",
       "      <td>1</td>\n",
       "      <td>611.0</td>\n",
       "      <td>-55.0</td>\n",
       "      <td>-0.0</td>\n",
       "      <td>-12.0</td>\n",
       "      <td>-10.0</td>\n",
       "      <td>-1.0</td>\n",
       "      <td>533.0</td>\n",
       "    </tr>\n",
       "    <tr>\n",
       "      <th>18059</th>\n",
       "      <td>1</td>\n",
       "      <td>1</td>\n",
       "      <td>611.0</td>\n",
       "      <td>-66.0</td>\n",
       "      <td>-0.0</td>\n",
       "      <td>-12.0</td>\n",
       "      <td>-10.0</td>\n",
       "      <td>-1.0</td>\n",
       "      <td>522.0</td>\n",
       "    </tr>\n",
       "    <tr>\n",
       "      <th>18060</th>\n",
       "      <td>1</td>\n",
       "      <td>1</td>\n",
       "      <td>611.0</td>\n",
       "      <td>56.0</td>\n",
       "      <td>-0.0</td>\n",
       "      <td>-12.0</td>\n",
       "      <td>-10.0</td>\n",
       "      <td>-1.0</td>\n",
       "      <td>644.0</td>\n",
       "    </tr>\n",
       "  </tbody>\n",
       "</table>\n",
       "</div>"
      ],
      "text/plain": [
       "       SeriousDlqin2yrs  SeriousDlqin2yrs  BaseScore    x1   x2    x7    x9  \\\n",
       "18056                 1                 1      611.0 -55.0 -0.0 -12.0 -10.0   \n",
       "18057                 1                 1      611.0  56.0 -0.0 -12.0 -10.0   \n",
       "18058                 1                 1      611.0 -55.0 -0.0 -12.0 -10.0   \n",
       "18059                 1                 1      611.0 -66.0 -0.0 -12.0 -10.0   \n",
       "18060                 1                 1      611.0  56.0 -0.0 -12.0 -10.0   \n",
       "\n",
       "       x10  Score  \n",
       "18056 -1.0  533.0  \n",
       "18057 -1.0  644.0  \n",
       "18058 -1.0  533.0  \n",
       "18059 -1.0  522.0  \n",
       "18060 -1.0  644.0  "
      ]
     },
     "execution_count": 39,
     "metadata": {},
     "output_type": "execute_result"
    }
   ],
   "source": [
    "test.loc[:,['SeriousDlqin2yrs','BaseScore', 'x1', 'x2', 'x7', 'x9', 'x10', 'Score']].tail()"
   ]
  },
  {
   "cell_type": "code",
   "execution_count": 41,
   "id": "d823a97d",
   "metadata": {},
   "outputs": [],
   "source": [
    "test_2=test.loc[:,['SeriousDlqin2yrs','BaseScore', 'x1', 'x2', 'x7', 'x9', 'x10', 'Score']]"
   ]
  },
  {
   "cell_type": "code",
   "execution_count": 42,
   "id": "8ee86221",
   "metadata": {},
   "outputs": [
    {
     "data": {
      "text/html": [
       "<div>\n",
       "<style scoped>\n",
       "    .dataframe tbody tr th:only-of-type {\n",
       "        vertical-align: middle;\n",
       "    }\n",
       "\n",
       "    .dataframe tbody tr th {\n",
       "        vertical-align: top;\n",
       "    }\n",
       "\n",
       "    .dataframe thead th {\n",
       "        text-align: right;\n",
       "    }\n",
       "</style>\n",
       "<table border=\"1\" class=\"dataframe\">\n",
       "  <thead>\n",
       "    <tr style=\"text-align: right;\">\n",
       "      <th></th>\n",
       "      <th>SeriousDlqin2yrs</th>\n",
       "      <th>SeriousDlqin2yrs</th>\n",
       "      <th>BaseScore</th>\n",
       "      <th>x1</th>\n",
       "      <th>x2</th>\n",
       "      <th>x7</th>\n",
       "      <th>x9</th>\n",
       "      <th>x10</th>\n",
       "      <th>Score</th>\n",
       "    </tr>\n",
       "  </thead>\n",
       "  <tbody>\n",
       "    <tr>\n",
       "      <th>count</th>\n",
       "      <td>18061.000000</td>\n",
       "      <td>18061.000000</td>\n",
       "      <td>18061.0</td>\n",
       "      <td>18061.000000</td>\n",
       "      <td>18061.0</td>\n",
       "      <td>18061.0</td>\n",
       "      <td>18061.0</td>\n",
       "      <td>18061.0</td>\n",
       "      <td>18061.000000</td>\n",
       "    </tr>\n",
       "    <tr>\n",
       "      <th>mean</th>\n",
       "      <td>0.932064</td>\n",
       "      <td>0.932064</td>\n",
       "      <td>611.0</td>\n",
       "      <td>-2.482033</td>\n",
       "      <td>0.0</td>\n",
       "      <td>-12.0</td>\n",
       "      <td>-10.0</td>\n",
       "      <td>-1.0</td>\n",
       "      <td>585.517967</td>\n",
       "    </tr>\n",
       "    <tr>\n",
       "      <th>std</th>\n",
       "      <td>0.251644</td>\n",
       "      <td>0.251644</td>\n",
       "      <td>0.0</td>\n",
       "      <td>58.384387</td>\n",
       "      <td>0.0</td>\n",
       "      <td>0.0</td>\n",
       "      <td>0.0</td>\n",
       "      <td>0.0</td>\n",
       "      <td>58.384387</td>\n",
       "    </tr>\n",
       "    <tr>\n",
       "      <th>min</th>\n",
       "      <td>0.000000</td>\n",
       "      <td>0.000000</td>\n",
       "      <td>611.0</td>\n",
       "      <td>-66.000000</td>\n",
       "      <td>-0.0</td>\n",
       "      <td>-12.0</td>\n",
       "      <td>-10.0</td>\n",
       "      <td>-1.0</td>\n",
       "      <td>522.000000</td>\n",
       "    </tr>\n",
       "    <tr>\n",
       "      <th>25%</th>\n",
       "      <td>1.000000</td>\n",
       "      <td>1.000000</td>\n",
       "      <td>611.0</td>\n",
       "      <td>-66.000000</td>\n",
       "      <td>0.0</td>\n",
       "      <td>-12.0</td>\n",
       "      <td>-10.0</td>\n",
       "      <td>-1.0</td>\n",
       "      <td>522.000000</td>\n",
       "    </tr>\n",
       "    <tr>\n",
       "      <th>50%</th>\n",
       "      <td>1.000000</td>\n",
       "      <td>1.000000</td>\n",
       "      <td>611.0</td>\n",
       "      <td>-55.000000</td>\n",
       "      <td>0.0</td>\n",
       "      <td>-12.0</td>\n",
       "      <td>-10.0</td>\n",
       "      <td>-1.0</td>\n",
       "      <td>533.000000</td>\n",
       "    </tr>\n",
       "    <tr>\n",
       "      <th>75%</th>\n",
       "      <td>1.000000</td>\n",
       "      <td>1.000000</td>\n",
       "      <td>611.0</td>\n",
       "      <td>56.000000</td>\n",
       "      <td>0.0</td>\n",
       "      <td>-12.0</td>\n",
       "      <td>-10.0</td>\n",
       "      <td>-1.0</td>\n",
       "      <td>644.000000</td>\n",
       "    </tr>\n",
       "    <tr>\n",
       "      <th>max</th>\n",
       "      <td>1.000000</td>\n",
       "      <td>1.000000</td>\n",
       "      <td>611.0</td>\n",
       "      <td>56.000000</td>\n",
       "      <td>-0.0</td>\n",
       "      <td>-12.0</td>\n",
       "      <td>-10.0</td>\n",
       "      <td>-1.0</td>\n",
       "      <td>644.000000</td>\n",
       "    </tr>\n",
       "  </tbody>\n",
       "</table>\n",
       "</div>"
      ],
      "text/plain": [
       "       SeriousDlqin2yrs  SeriousDlqin2yrs  BaseScore            x1       x2  \\\n",
       "count      18061.000000      18061.000000    18061.0  18061.000000  18061.0   \n",
       "mean           0.932064          0.932064      611.0     -2.482033      0.0   \n",
       "std            0.251644          0.251644        0.0     58.384387      0.0   \n",
       "min            0.000000          0.000000      611.0    -66.000000     -0.0   \n",
       "25%            1.000000          1.000000      611.0    -66.000000      0.0   \n",
       "50%            1.000000          1.000000      611.0    -55.000000      0.0   \n",
       "75%            1.000000          1.000000      611.0     56.000000      0.0   \n",
       "max            1.000000          1.000000      611.0     56.000000     -0.0   \n",
       "\n",
       "            x7       x9      x10         Score  \n",
       "count  18061.0  18061.0  18061.0  18061.000000  \n",
       "mean     -12.0    -10.0     -1.0    585.517967  \n",
       "std        0.0      0.0      0.0     58.384387  \n",
       "min      -12.0    -10.0     -1.0    522.000000  \n",
       "25%      -12.0    -10.0     -1.0    522.000000  \n",
       "50%      -12.0    -10.0     -1.0    533.000000  \n",
       "75%      -12.0    -10.0     -1.0    644.000000  \n",
       "max      -12.0    -10.0     -1.0    644.000000  "
      ]
     },
     "execution_count": 42,
     "metadata": {},
     "output_type": "execute_result"
    }
   ],
   "source": [
    "test_2.describe()"
   ]
  },
  {
   "cell_type": "markdown",
   "id": "960e7c9f",
   "metadata": {},
   "source": [
    "每个客户的信用分，最低分为522分，最高分为644分，得分的中位数为533分，可以以533分为一个界限分值，信用分低于533分的客户可以视为他违约的概率比较大，在向他发放贷款的时候要多加考虑，必要时可以考虑不向其贷款，类似的，信用分高于533的客户可以说他的信用度还可以，在其申请贷款的时候可以考虑允许向其发放贷款。"
   ]
  },
  {
   "cell_type": "code",
   "execution_count": null,
   "id": "df60351f",
   "metadata": {},
   "outputs": [],
   "source": []
  }
 ],
 "metadata": {
  "kernelspec": {
   "display_name": "Python 3 (ipykernel)",
   "language": "python",
   "name": "python3"
  },
  "language_info": {
   "codemirror_mode": {
    "name": "ipython",
    "version": 3
   },
   "file_extension": ".py",
   "mimetype": "text/x-python",
   "name": "python",
   "nbconvert_exporter": "python",
   "pygments_lexer": "ipython3",
   "version": "3.9.7"
  }
 },
 "nbformat": 4,
 "nbformat_minor": 5
}
